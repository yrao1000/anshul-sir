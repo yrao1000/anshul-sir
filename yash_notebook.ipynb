{
 "cells": [
  {
   "cell_type": "code",
   "execution_count": 1,
   "metadata": {},
   "outputs": [
    {
     "name": "stdout",
     "output_type": "stream",
     "text": [
      "['READ_CONTACTS', 'CAMERA', 'INTERNET', 'ACCESS_NETWORK_STATE', 'WRITE_EXTERNAL_STORAGE', 'SYSTEM_ALERT_WINDOW', 'ACCESS_COARSE_LOCATION', 'ACCESS_FINE_LOCATION', 'READ_EXTERNAL_STORAGE', 'WAKE_LOCK']\n"
     ]
    }
   ],
   "source": [
    "import xml.etree.ElementTree as ET\n",
    "tree = ET.parse('AndroidManifest.xml')\n",
    "root = tree.getroot()\n",
    "\n",
    "list_of_permissions =[]\n",
    "\n",
    "for child in root:\n",
    "    if child.tag == \"uses-permission\" :\n",
    "        t=child.get('{http://schemas.android.com/apk/res/android}name')\n",
    "\n",
    "        k= t.find('android.permission.')\n",
    "\n",
    "        if(k!= -1):\n",
    "            name_of_permission=(t[19:])\n",
    "            list_of_permissions.append(name_of_permission)\n",
    "\n",
    "print(list_of_permissions)\n",
    "\n"
   ]
  },
  {
   "cell_type": "code",
   "execution_count": null,
   "metadata": {},
   "outputs": [],
   "source": []
  }
 ],
 "metadata": {
  "kernelspec": {
   "display_name": "Python 2",
   "language": "python",
   "name": "python2"
  },
  "language_info": {
   "codemirror_mode": {
    "name": "ipython",
    "version": 2
   },
   "file_extension": ".py",
   "mimetype": "text/x-python",
   "name": "python",
   "nbconvert_exporter": "python",
   "pygments_lexer": "ipython2",
   "version": "2.7.16"
  }
 },
 "nbformat": 4,
 "nbformat_minor": 2
}
