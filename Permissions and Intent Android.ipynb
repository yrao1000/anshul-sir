{
 "cells": [
  {
   "cell_type": "code",
   "execution_count": 5,
   "metadata": {
    "scrolled": true
   },
   "outputs": [
    {
     "data": {
      "text/plain": [
       "32"
      ]
     },
     "execution_count": 5,
     "metadata": {},
     "output_type": "execute_result"
    }
   ],
   "source": [
    "import os\n",
    "import re\n",
    "import pandas as pd\n",
    "import xml.etree.ElementTree as ET \n",
    "path = r\"C:\\Users\\Karmanya\\Desktop\\Contagio\\Manifest Files\"\n",
    "dirs = [f for f in os.listdir(path)]\n",
    "len(dirs)"
   ]
  },
  {
   "cell_type": "code",
   "execution_count": 6,
   "metadata": {
    "scrolled": true
   },
   "outputs": [
    {
     "data": {
      "text/plain": [
       "31"
      ]
     },
     "execution_count": 6,
     "metadata": {},
     "output_type": "execute_result"
    }
   ],
   "source": [
    "manifest_files = []\n",
    "for folder in dirs:\n",
    "    folder_manifest_list = []\n",
    "    folder_manifest_list.append(folder)\n",
    "    path_folder = os.path.join(path,folder)\n",
    "    \n",
    "    files = [f for f in os.listdir(path_folder)]\n",
    "    for doc in files:\n",
    "        if doc == 'AndroidManifest.xml':\n",
    "            folder_manifest_list.append(os.path.join(path_folder,doc))\n",
    "            manifest_files.append(folder_manifest_list)\n",
    "len(manifest_files)"
   ]
  },
  {
   "cell_type": "code",
   "execution_count": 3,
   "metadata": {},
   "outputs": [],
   "source": [
    "all_permissions = set()\n",
    "all_intents = set()"
   ]
  },
  {
   "cell_type": "code",
   "execution_count": null,
   "metadata": {},
   "outputs": [],
   "source": []
  },
  {
   "cell_type": "code",
   "execution_count": 19,
   "metadata": {},
   "outputs": [],
   "source": [
    "import xml.etree.ElementTree as ET \n",
    "def parse_xml(file):\n",
    "    file_name = file[0]\n",
    "    mfile = file[1]\n",
    "    tree = ET.parse(mfile)\n",
    "    root = tree.getroot()\n",
    "    \n",
    "    m_list = [elem.tag for elem in root.iter()]\n",
    "    #print(m_list)\n",
    "\n",
    "    per_list = []\n",
    "    for per in root.iter('uses-permission'):\n",
    "        #print(per.attrib[\"{http://schemas.android.com/apk/res/android}name\"])\n",
    "        per_list.append(per.attrib[\"{http://schemas.android.com/apk/res/android}name\"])\n",
    "    \n",
    "    intent_list=[]\n",
    "    \n",
    "    for intent in root.findall('./application/activity/intent-filter/action'):\n",
    "        #print(intent.attrib[\"{http://schemas.android.com/apk/res/android}name\"])\n",
    "        intent_list.append(intent.attrib[\"{http://schemas.android.com/apk/res/android}name\"])\n",
    "    \n",
    "    file_permissions = []\n",
    "    file_intents = []\n",
    "    for p_string in per_list:\n",
    "        split_str = p_string.split('.')\n",
    "        p_string = split_str[-1]\n",
    "        if len(p_string) > 1:\n",
    "            file_permissions.append(str(p_string))\n",
    "            \n",
    "    for intent_string in intent_list:\n",
    "        split_int = intent_string.split('.')\n",
    "        intent_string = split_int[-1]\n",
    "        if len(intent_string) > 1:\n",
    "            file_intents.append(str(intent_string))\n",
    "    \n",
    "    for permission in file_permissions:\n",
    "        all_permissions.add(permission)\n",
    "     \n",
    "    for intent in file_intents:\n",
    "        all_intents.add(intent)\n",
    "        \n",
    "    #print(\"Permissions-->\",per_dict)\n",
    "    #print(\"Intents-->\",intent_dict)\n",
    "    \n",
    "    #Creating a Pandas Dataframe for permissions and intents:\n",
    "    intent_df = pd.DataFrame(file_intents,columns = ['Intents'])\n",
    "    perm_df = pd.DataFrame(file_permissions,columns = ['Permissions'])\n",
    "    \n",
    "    apk_name = str(file_name)\n",
    "    #Writing Permissions file in csv format:\n",
    "    perm_path = r\"C:\\Users\\Karmanya\\Desktop\\Contagio\\Permission_Files//\" + str(apk_name) + '.csv'\n",
    "    perm_df.to_csv(perm_path,index = False,header = True)\n",
    "    \n",
    "    #Writting intents file in csv format:\n",
    "    intent_path = r\"C:\\Users\\Karmanya\\Desktop\\Contagio\\Intent_Files//\" + str(apk_name) + '.csv'\n",
    "    intent_df.to_csv(intent_path,index = False,header = True)\n",
    "        \n",
    "parse_xml(manifest_files[0])"
   ]
  },
  {
   "cell_type": "code",
   "execution_count": 20,
   "metadata": {
    "scrolled": true
   },
   "outputs": [],
   "source": [
    "for file_manifest_pair in manifest_files:\n",
    "    parse_xml(file_manifest_pair)"
   ]
  },
  {
   "cell_type": "code",
   "execution_count": 21,
   "metadata": {},
   "outputs": [
    {
     "data": {
      "text/plain": [
       "{'CERT',\n",
       " 'CLEARSCREEN',\n",
       " 'FileChooser',\n",
       " 'GESTURE',\n",
       " 'MAIN',\n",
       " 'MAIN2',\n",
       " 'NINEGRID',\n",
       " 'SEARCH_LONG_PRESS',\n",
       " 'SEND',\n",
       " 'SENDTO',\n",
       " 'SEND_MULTIPLE',\n",
       " 'SET_WALLPAPER',\n",
       " 'VIEW',\n",
       " 'downloader',\n",
       " 'logView',\n",
       " 'payload',\n",
       " 'theme'}"
      ]
     },
     "execution_count": 21,
     "metadata": {},
     "output_type": "execute_result"
    }
   ],
   "source": [
    "all_intents"
   ]
  },
  {
   "cell_type": "code",
   "execution_count": 22,
   "metadata": {
    "scrolled": true
   },
   "outputs": [
    {
     "data": {
      "text/plain": [
       "{'ACCESS',\n",
       " 'ACCESS_COARSE_LOCATION',\n",
       " 'ACCESS_FINE_LOCATION',\n",
       " 'ACCESS_GPS',\n",
       " 'ACCESS_LOCATION',\n",
       " 'ACCESS_LOCATION_EXTRA_COMMANDS',\n",
       " 'ACCESS_NETWORK_STATE',\n",
       " 'ACCESS_WIFI_STATE',\n",
       " 'ADD_SYSTEM_SERVICE',\n",
       " 'BACKUP',\n",
       " 'BILLING',\n",
       " 'BLUETOOTH',\n",
       " 'BLUETOOTH_ADMIN',\n",
       " 'BROADCAST_SMS',\n",
       " 'BROADCAST_STICKY',\n",
       " 'BROADCAST_WAP_PUSH',\n",
       " 'C2D_MESSAGE',\n",
       " 'CALL_PHONE',\n",
       " 'CAMERA',\n",
       " 'CHANGE_CONFIGURATION',\n",
       " 'CHANGE_NETWORK_STATE',\n",
       " 'CHANGE_WIFI_STATE',\n",
       " 'DELETE_PACKAGES',\n",
       " 'DEVICE_POWER',\n",
       " 'DISABLE_KEYGUARD',\n",
       " 'EXPAND_STATUS_BAR',\n",
       " 'GET_ACCOUNTS',\n",
       " 'GET_TASKS',\n",
       " 'GLOBAL_SEARCH_CONTROL',\n",
       " 'INSTALL_PACKAGES',\n",
       " 'INSTALL_SHORTCUT',\n",
       " 'INTERNAL_SYSTEM_WINDOW',\n",
       " 'INTERNET',\n",
       " 'KILL_BACKGROUND_PROCESSES',\n",
       " 'MODIFY_AUDIO_SETTINGS',\n",
       " 'MODIFY_PHONE_STATE',\n",
       " 'MOUNT_UNMOUNT_FILESYSTEMS',\n",
       " 'PROCESS_OUTGOING_CALLS',\n",
       " 'READ_CALL_LOG',\n",
       " 'READ_CONTACTS',\n",
       " 'READ_EXTERNAL_STORAGE',\n",
       " 'READ_HISTORY_BOOKMARKS',\n",
       " 'READ_LOGS',\n",
       " 'READ_PHONE_STATE',\n",
       " 'READ_SETTINGS',\n",
       " 'READ_SMS',\n",
       " 'RECEIVE',\n",
       " 'RECEIVE_BOOT_COMPLETED',\n",
       " 'RECEIVE_MMS',\n",
       " 'RECEIVE_SMS',\n",
       " 'RECEIVE_WAP_PUSH',\n",
       " 'RECORD_AUDIO',\n",
       " 'REORDER_TASKS',\n",
       " 'RESTART_PACKAGES',\n",
       " 'SEND_SMS',\n",
       " 'SET_PREFERRED_APPLICATIONS',\n",
       " 'SET_WALLPAPER',\n",
       " 'SET_WALLPAPER_HINTS',\n",
       " 'STATUS_BAR',\n",
       " 'SYSTEM_ALERT_WINDOW',\n",
       " 'UNINSTALL_SHORTCUT',\n",
       " 'UPDATE_DEVICE_STATS',\n",
       " 'VIBRATE',\n",
       " 'WAKE_LOCK',\n",
       " 'WRITE_APN_SETTINGS',\n",
       " 'WRITE_CALL_LOG',\n",
       " 'WRITE_CONTACTS',\n",
       " 'WRITE_EXTERNAL_STORAGE',\n",
       " 'WRITE_HISTORY_BOOKMARKS',\n",
       " 'WRITE_SECURE',\n",
       " 'WRITE_SECURE_SETTINGS',\n",
       " 'WRITE_SETTINGS',\n",
       " 'WRITE_SMS'}"
      ]
     },
     "execution_count": 22,
     "metadata": {},
     "output_type": "execute_result"
    }
   ],
   "source": [
    "all_permissions"
   ]
  },
  {
   "cell_type": "code",
   "execution_count": null,
   "metadata": {},
   "outputs": [],
   "source": []
  }
 ],
 "metadata": {
  "kernelspec": {
   "display_name": "Python 3",
   "language": "python",
   "name": "python3"
  },
  "language_info": {
   "codemirror_mode": {
    "name": "ipython",
    "version": 3
   },
   "file_extension": ".py",
   "mimetype": "text/x-python",
   "name": "python",
   "nbconvert_exporter": "python",
   "pygments_lexer": "ipython3",
   "version": "3.7.1"
  }
 },
 "nbformat": 4,
 "nbformat_minor": 2
}
